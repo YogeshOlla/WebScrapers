{
 "cells": [
  {
   "cell_type": "code",
   "execution_count": 1,
   "id": "77b74a0d",
   "metadata": {},
   "outputs": [],
   "source": [
    "# Install the library\n",
    "!pip install requests --upgrade --quiet\n",
    "!pip install beautifulsoup4 --upgrade --quiet"
   ]
  },
  {
   "cell_type": "code",
   "execution_count": 12,
   "id": "c3502eed",
   "metadata": {},
   "outputs": [],
   "source": [
    "#importing libraries\n",
    "import requests\n",
    "from bs4 import BeautifulSoup\n",
    "import csv"
   ]
  },
  {
   "cell_type": "code",
   "execution_count": 3,
   "id": "58a6c8a2",
   "metadata": {},
   "outputs": [],
   "source": [
    "# First thing we need is to get the topic page using response and parse it though BeautifulSoup\n",
    "\n",
    "def fetch_topic(topic):\n",
    "    base_url = 'https://github.com/topics/'\n",
    "    topic_url = base_url + topic\n",
    "    response = requests.get(topic_url)\n",
    "    if response.status_code != 200:\n",
    "        raise Exception(\"Not able to fetch page \",topic_url,\" please check the input again\")\n",
    "    return BeautifulSoup(response.text)      "
   ]
  },
  {
   "cell_type": "code",
   "execution_count": 5,
   "id": "bc0c24fb",
   "metadata": {},
   "outputs": [],
   "source": [
    "# Getting list of tags to be itterated\n",
    "\n",
    "def tags_parser(doc):\n",
    "    return doc.find_all('article',class_='border rounded color-shadow-small color-bg-subtle my-4') "
   ]
  },
  {
   "cell_type": "code",
   "execution_count": 4,
   "id": "29fb2f53",
   "metadata": {},
   "outputs": [],
   "source": [
    "# Parsing the repository to get repo_name,owner_username,url,stars\n",
    "\n",
    "def repo_parser(tag):\n",
    "    \n",
    "    owner_name = tag.find('h3').find_all('a')[0].text.strip()\n",
    "    \n",
    "    repo_name = tag.find('h3').find_all('a')[1].text.strip()\n",
    "    \n",
    "    repo_tag = tag.find('h3').find_all('a')[1].attrs['href'].strip()\n",
    "    repo_url = 'https://github.com'+repo_tag\n",
    "    \n",
    "    star_string = tag.find('span',id='repo-stars-counter-star').text.strip()\n",
    "    repo_stars = parse_star(star_string)\n",
    "    \n",
    "    return{\n",
    "        'repository_name':repo_name,\n",
    "        'owner_username':owner_name,\n",
    "        'stars':repo_stars,\n",
    "        'repository_url':repo_url\n",
    "    }"
   ]
  },
  {
   "cell_type": "code",
   "execution_count": 6,
   "id": "07f5e42d",
   "metadata": {},
   "outputs": [],
   "source": [
    "# parse_star will take the start sting and convert it into numeric form\n",
    "\n",
    "def parse_star(star_string):\n",
    "    if star_string[-1] == 'k':\n",
    "        return int(float(star_string[:-1])*1000)\n",
    "    else: return int(star_string)"
   ]
  },
  {
   "cell_type": "code",
   "execution_count": null,
   "id": "ac03c61e",
   "metadata": {},
   "outputs": [],
   "source": [
    "#writing "
   ]
  },
  {
   "cell_type": "code",
   "execution_count": 7,
   "id": "4c329537",
   "metadata": {},
   "outputs": [],
   "source": [
    "# defining a function that calls all above function to give final output in csv\n",
    "def github_repo_scraper():\n",
    "    topic = input(\"Please enter a topic :\")\n",
    "    doc = fetch_topic('topic')\n",
    "    doc_tags = tags_parser(doc)\n",
    "    top_repositories = [repo_parser(tag) for tag in doc_tags]\n",
    "    return top_repositories\n"
   ]
  },
  {
   "cell_type": "code",
   "execution_count": 9,
   "id": "34ce6e55",
   "metadata": {},
   "outputs": [
    {
     "name": "stdout",
     "output_type": "stream",
     "text": [
      "Please enter a topic :bitcoin\n"
     ]
    }
   ],
   "source": [
    "dic_output = github_repo_scraper()"
   ]
  },
  {
   "cell_type": "code",
   "execution_count": 19,
   "id": "8ba69a18",
   "metadata": {},
   "outputs": [
    {
     "data": {
      "text/plain": [
       "['repository_name', 'owner_username', 'stars', 'repository_url']"
      ]
     },
     "execution_count": 19,
     "metadata": {},
     "output_type": "execute_result"
    }
   ],
   "source": [
    "headers = list(dic_output[1].keys())\n",
    "headers"
   ]
  },
  {
   "cell_type": "code",
   "execution_count": 22,
   "id": "6e3a4d7d",
   "metadata": {},
   "outputs": [
    {
     "data": {
      "text/plain": [
       "'bitcoin_repo.csv'"
      ]
     },
     "execution_count": 22,
     "metadata": {},
     "output_type": "execute_result"
    }
   ],
   "source": [
    "topic = \"bitcoin\"\n",
    "file_name = topic+\"_repo.csv\"\n",
    "file_name"
   ]
  },
  {
   "cell_type": "code",
   "execution_count": null,
   "id": "4d5e0afa",
   "metadata": {},
   "outputs": [],
   "source": [
    "with open('')"
   ]
  }
 ],
 "metadata": {
  "kernelspec": {
   "display_name": "Python 3 (ipykernel)",
   "language": "python",
   "name": "python3"
  },
  "language_info": {
   "codemirror_mode": {
    "name": "ipython",
    "version": 3
   },
   "file_extension": ".py",
   "mimetype": "text/x-python",
   "name": "python",
   "nbconvert_exporter": "python",
   "pygments_lexer": "ipython3",
   "version": "3.9.12"
  }
 },
 "nbformat": 4,
 "nbformat_minor": 5
}
