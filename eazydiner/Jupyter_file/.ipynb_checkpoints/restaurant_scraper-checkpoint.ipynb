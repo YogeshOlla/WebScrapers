{
 "cells": [
  {
   "cell_type": "code",
   "execution_count": 46,
   "id": "da40c729",
   "metadata": {},
   "outputs": [],
   "source": [
    "'''\n",
    "trying other methords to install libraries\n",
    "'''\n",
    "try: \n",
    "    import scrapy\n",
    "except:\n",
    "    !pip install scrapy\n",
    "import scrapy\n",
    "\n",
    "from scrapy.crawler import CrawlerProcess\n",
    "\n",
    "import csv\n",
    "import logging"
   ]
  },
  {
   "cell_type": "code",
   "execution_count": 53,
   "id": "0d71b93e",
   "metadata": {},
   "outputs": [],
   "source": [
    "'''\n",
    "Find a methord to write output to csv\n",
    "\n",
    "Using the pipeline methord, dont understand it yer just trying it out\n",
    "'''\n",
    "\n",
    "class CsvWriterPipeline(object):\n",
    "\n",
    "    def open_spider(self, spider):\n",
    "        self.file = open('restaurant.csv', 'w')\n",
    "\n",
    "    def close_spider(self, spider):\n",
    "        self.file.close()\n",
    "\n",
    "    def process_item(self, item, spider):\n",
    "        line = csv.dumps(dict(item)) + \"\\n\"\n",
    "        self.file.write(line)\n",
    "        return item"
   ]
  },
  {
   "cell_type": "code",
   "execution_count": 54,
   "id": "dd8a0645",
   "metadata": {},
   "outputs": [],
   "source": [
    "'''\n",
    "Create the spider\n",
    "\n",
    "Log :\n",
    "1. Using the pipeline methord found from google to write output directly to csv \n",
    "(will need to study the custome_settings further)\n",
    "'''\n",
    "\n",
    "class AlldinerSpider(scrapy.Spider):\n",
    "    name = 'alldiners'\n",
    "    allowed_domains = ['eazydiner.com']\n",
    "    start_urls = ['https://www.eazydiner.com/restaurants?location=delhi-ncr&pax=2']\n",
    "    custom_settings = {\n",
    "        'LOG_LEVEL' : logging.WARNING,\n",
    "        'ITEM_PIPELINES' : {'__main__.CsvWriterPipeline': 1},\n",
    "        'FEEDS' : {\n",
    "            'restaurant.csv':{\n",
    "                'format' : 'csv',\n",
    "                'overwrite' : True\n",
    "            }\n",
    "        }\n",
    "    }\n",
    "    \n",
    "\n",
    "    def parse(self, response):\n",
    "        \n",
    "        for item in response.css(\"div[class='padding-10 radius-4 bg-white restaurant margin-b-10']\"):\n",
    "            \n",
    "            yield {\n",
    "                'restaurant_name': item.css(\"h3[class='grey res_name font-20 bold inline-block']::text\").get().strip(),\n",
    "\n",
    "                'restaurant_location': item.css(\"h3[class='margin-t-5 res_loc']::text\").get().strip(),\n",
    "\n",
    "                'cost_for_2': item.css(\"span[class='padding-l-10 grey cost_for_two']::text\").get('').strip()[:-7],\n",
    "\n",
    "                'cusisine': item.css(\"div[class='grey padding-l-10 res_cuisine']::text\").get().strip(),\n",
    "\n",
    "                'rating': item.css(\"span.critic::text\").get().strip(),\n",
    "\n",
    "                'restaurant_img': item.css(\"img[class='radius-4 res_name lazy']::attr(data-src)\").get(),\n",
    "\n",
    "                'restaurant_page': \"https://www.eazydiner.com/\"+item.css(\"a[class='btn btn-primary height-40 block bold padding-10 font-14 apxor_click']::attr(href)\").get()\n",
    "            } \n",
    "\n",
    "        next_page = response.css('a[rel=next]::attr(href)').get()  \n",
    "        if next_page is not None:\n",
    "                yield response.follow(next_page,callback=self.parse)   \n",
    "                "
   ]
  },
  {
   "cell_type": "code",
   "execution_count": 55,
   "id": "420289ba",
   "metadata": {},
   "outputs": [],
   "source": [
    "'''\n",
    "write a function to run the crawler\n",
    "'''\n",
    "def run_spider():\n",
    "    crawler = CrawlerRunner()\n",
    "    return crawler.crawl(AlldinerSpider)"
   ]
  },
  {
   "cell_type": "code",
   "execution_count": 56,
   "id": "8cd2dc02",
   "metadata": {},
   "outputs": [],
   "source": [
    "final_output = run_spider()"
   ]
  },
  {
   "cell_type": "code",
   "execution_count": 57,
   "id": "d84ceff5",
   "metadata": {},
   "outputs": [
    {
     "data": {
      "text/plain": [
       "<Deferred at 0x7f793a0a5a60>"
      ]
     },
     "execution_count": 57,
     "metadata": {},
     "output_type": "execute_result"
    }
   ],
   "source": [
    "final_output"
   ]
  }
 ],
 "metadata": {
  "kernelspec": {
   "display_name": "Python 3 (ipykernel)",
   "language": "python",
   "name": "python3"
  },
  "language_info": {
   "codemirror_mode": {
    "name": "ipython",
    "version": 3
   },
   "file_extension": ".py",
   "mimetype": "text/x-python",
   "name": "python",
   "nbconvert_exporter": "python",
   "pygments_lexer": "ipython3",
   "version": "3.9.12"
  }
 },
 "nbformat": 4,
 "nbformat_minor": 5
}
