{
 "cells": [
  {
   "cell_type": "code",
   "execution_count": 1,
   "id": "77b74a0d",
   "metadata": {},
   "outputs": [],
   "source": [
    "# Install the library\n",
    "!pip install requests --upgrade --quiet\n",
    "!pip install beautifulsoup4 --upgrade --quiet"
   ]
  },
  {
   "cell_type": "code",
   "execution_count": 2,
   "id": "c3502eed",
   "metadata": {},
   "outputs": [],
   "source": [
    "#importing libraries\n",
    "import requests\n",
    "from bs4 import BeautifulSoup"
   ]
  },
  {
   "cell_type": "code",
   "execution_count": 3,
   "id": "58a6c8a2",
   "metadata": {},
   "outputs": [],
   "source": [
    "# First thing we need is to get the topic page using response and parse it though BeautifulSoup\n",
    "\n",
    "def fetch_topic(topic):\n",
    "    base_url = 'https://github.com/topics/'\n",
    "    topic_url = base_url + topic\n",
    "    response = requests.get(topic_url)\n",
    "    if response.status_code != 200:\n",
    "        raise Exception(\"Not able to fetch page \",topic_url,\" please check the input again\")\n",
    "    return BeautifulSoup(response.text)      "
   ]
  },
  {
   "cell_type": "code",
   "execution_count": 4,
   "id": "bc0c24fb",
   "metadata": {},
   "outputs": [],
   "source": [
    "# Getting list of tags to be itterated\n",
    "\n",
    "def tags_parser(doc):\n",
    "    return doc.find_all('article',class_='border rounded color-shadow-small color-bg-subtle my-4') "
   ]
  },
  {
   "cell_type": "code",
   "execution_count": 14,
   "id": "29fb2f53",
   "metadata": {},
   "outputs": [],
   "source": [
    "# Parsing the repository to get repo_name,owner_username,url,stars\n",
    "\n",
    "def repo_parser(tag):\n",
    "    \n",
    "    owner_name = tag.find('h3').find_all('a')[0].text.strip()\n",
    "    \n",
    "    repo_name = tag.find('h3').find_all('a')[1].text.strip()\n",
    "    \n",
    "    repo_tag = tag.find('h3').find_all('a')[1].attrs['href'].strip()\n",
    "    repo_url = 'https://github.com'+repo_tag\n",
    "    \n",
    "    star_string = tag.find('span',id='repo-stars-counter-star').text.strip()\n",
    "    repo_stars = parse_star(star_string)\n",
    "    \n",
    "    return{\n",
    "        'repository_name':repo_name,\n",
    "        'owner_username':owner_name,\n",
    "        'stars':repo_stars,\n",
    "        'repository_url':repo_url\n",
    "    }"
   ]
  },
  {
   "cell_type": "code",
   "execution_count": 6,
   "id": "07f5e42d",
   "metadata": {},
   "outputs": [],
   "source": [
    "# parse_star will take the start sting and convert it into numeric form\n",
    "\n",
    "def parse_star(star_string):\n",
    "    if star_string[-1] == 'k':\n",
    "        return int(float(star_string[:-1])*1000)\n",
    "    else: return int(star_string)"
   ]
  },
  {
   "cell_type": "code",
   "execution_count": 26,
   "id": "4c329537",
   "metadata": {},
   "outputs": [],
   "source": [
    "# defining a function that calls all above function to give final output in csv\n",
    "def github_repo_scraper():\n",
    "    topic = input(\"Please enter a topic :\")\n",
    "    doc = fetch_topic('topic')\n",
    "    doc_tags = tags_parser(doc)\n",
    "    top_repositories = [repo_parser(tag) for tag in doc_tags]\n",
    "    return top_repositories\n"
   ]
  },
  {
   "cell_type": "code",
   "execution_count": 27,
   "id": "34ce6e55",
   "metadata": {},
   "outputs": [
    {
     "name": "stdout",
     "output_type": "stream",
     "text": [
      "Please enter a topic :python\n"
     ]
    },
    {
     "data": {
      "text/plain": [
       "[{'repository_name': 'LogiKM',\n",
       "  'owner_username': 'didi',\n",
       "  'stars': 4100,\n",
       "  'repository_url': 'https://github.com/didi/LogiKM'},\n",
       " {'repository_name': 'kafdrop',\n",
       "  'owner_username': 'obsidiandynamics',\n",
       "  'stars': 3700,\n",
       "  'repository_url': 'https://github.com/obsidiandynamics/kafdrop'},\n",
       " {'repository_name': 'BERTopic',\n",
       "  'owner_username': 'MaartenGr',\n",
       "  'stars': 2500,\n",
       "  'repository_url': 'https://github.com/MaartenGr/BERTopic'},\n",
       " {'repository_name': 'kafka-monitor',\n",
       "  'owner_username': 'linkedin',\n",
       "  'stars': 1900,\n",
       "  'repository_url': 'https://github.com/linkedin/kafka-monitor'},\n",
       " {'repository_name': 'Android-Interview-Questions',\n",
       "  'owner_username': 'derekargueta',\n",
       "  'stars': 842,\n",
       "  'repository_url': 'https://github.com/derekargueta/Android-Interview-Questions'},\n",
       " {'repository_name': 'swoole-jobs',\n",
       "  'owner_username': 'kcloze',\n",
       "  'stars': 581,\n",
       "  'repository_url': 'https://github.com/kcloze/swoole-jobs'},\n",
       " {'repository_name': 'wsify',\n",
       "  'owner_username': 'alash3al',\n",
       "  'stars': 487,\n",
       "  'repository_url': 'https://github.com/alash3al/wsify'},\n",
       " {'repository_name': 'Html2Article',\n",
       "  'owner_username': 'stanzhai',\n",
       "  'stars': 461,\n",
       "  'repository_url': 'https://github.com/stanzhai/Html2Article'},\n",
       " {'repository_name': 'hacker-news-digest',\n",
       "  'owner_username': 'polyrabbit',\n",
       "  'stars': 296,\n",
       "  'repository_url': 'https://github.com/polyrabbit/hacker-news-digest'},\n",
       " {'repository_name': 'LDAGibbsSampling',\n",
       "  'owner_username': 'yangliuy',\n",
       "  'stars': 224,\n",
       "  'repository_url': 'https://github.com/yangliuy/LDAGibbsSampling'},\n",
       " {'repository_name': 'mqttx',\n",
       "  'owner_username': 'Amazingwujun',\n",
       "  'stars': 216,\n",
       "  'repository_url': 'https://github.com/Amazingwujun/mqttx'},\n",
       " {'repository_name': 'proposal-smart-pipelines',\n",
       "  'owner_username': 'tc39',\n",
       "  'stars': 179,\n",
       "  'repository_url': 'https://github.com/tc39/proposal-smart-pipelines'},\n",
       " {'repository_name': 'weibo-topic-spider',\n",
       "  'owner_username': 'czy1999',\n",
       "  'stars': 192,\n",
       "  'repository_url': 'https://github.com/czy1999/weibo-topic-spider'},\n",
       " {'repository_name': 'Kafka-zk-restapi',\n",
       "  'owner_username': 'gnuhpc',\n",
       "  'stars': 124,\n",
       "  'repository_url': 'https://github.com/gnuhpc/Kafka-zk-restapi'},\n",
       " {'repository_name': 'tencentcloud-iot-sdk-embedded-c',\n",
       "  'owner_username': 'TencentCloud',\n",
       "  'stars': 124,\n",
       "  'repository_url': 'https://github.com/TencentCloud/tencentcloud-iot-sdk-embedded-c'},\n",
       " {'repository_name': 'hub',\n",
       "  'owner_username': 'leandro-lugaresi',\n",
       "  'stars': 115,\n",
       "  'repository_url': 'https://github.com/leandro-lugaresi/hub'},\n",
       " {'repository_name': 'kafka-visualizer',\n",
       "  'owner_username': 'manasb-uoe',\n",
       "  'stars': 106,\n",
       "  'repository_url': 'https://github.com/manasb-uoe/kafka-visualizer'},\n",
       " {'repository_name': 'windowed-observable',\n",
       "  'owner_username': 'luistak',\n",
       "  'stars': 106,\n",
       "  'repository_url': 'https://github.com/luistak/windowed-observable'},\n",
       " {'repository_name': 'edamontology',\n",
       "  'owner_username': 'edamontology',\n",
       "  'stars': 96,\n",
       "  'repository_url': 'https://github.com/edamontology/edamontology'},\n",
       " {'repository_name': 'geekforum',\n",
       "  'owner_username': 'liuhuipy',\n",
       "  'stars': 88,\n",
       "  'repository_url': 'https://github.com/liuhuipy/geekforum'},\n",
       " {'repository_name': 'kafkactl',\n",
       "  'owner_username': 'jbvmio',\n",
       "  'stars': 79,\n",
       "  'repository_url': 'https://github.com/jbvmio/kafkactl'},\n",
       " {'repository_name': 'webfunc',\n",
       "  'owner_username': 'nicolasdao',\n",
       "  'stars': 71,\n",
       "  'repository_url': 'https://github.com/nicolasdao/webfunc'},\n",
       " {'repository_name': 'azure-service-bus-go',\n",
       "  'owner_username': 'Azure',\n",
       "  'stars': 68,\n",
       "  'repository_url': 'https://github.com/Azure/azure-service-bus-go'},\n",
       " {'repository_name': 'lucene-lda',\n",
       "  'owner_username': 'stepthom',\n",
       "  'stars': 56,\n",
       "  'repository_url': 'https://github.com/stepthom/lucene-lda'},\n",
       " {'repository_name': 'mqtt-react-hooks',\n",
       "  'owner_username': 'VictorHAS',\n",
       "  'stars': 56,\n",
       "  'repository_url': 'https://github.com/VictorHAS/mqtt-react-hooks'},\n",
       " {'repository_name': 'HackerQueue',\n",
       "  'owner_username': 'frankcash',\n",
       "  'stars': 54,\n",
       "  'repository_url': 'https://github.com/frankcash/HackerQueue'},\n",
       " {'repository_name': 'Insulator',\n",
       "  'owner_username': 'andrewinci',\n",
       "  'stars': 54,\n",
       "  'repository_url': 'https://github.com/andrewinci/Insulator'},\n",
       " {'repository_name': 'ieml',\n",
       "  'owner_username': 'IEMLdev',\n",
       "  'stars': 45,\n",
       "  'repository_url': 'https://github.com/IEMLdev/ieml'},\n",
       " {'repository_name': 'odoobooks',\n",
       "  'owner_username': 'mga-odoo',\n",
       "  'stars': 42,\n",
       "  'repository_url': 'https://github.com/mga-odoo/odoobooks'},\n",
       " {'repository_name': 'ConDigSum',\n",
       "  'owner_username': 'Junpliu',\n",
       "  'stars': 44,\n",
       "  'repository_url': 'https://github.com/Junpliu/ConDigSum'}]"
      ]
     },
     "execution_count": 27,
     "metadata": {},
     "output_type": "execute_result"
    }
   ],
   "source": [
    "github_repo_scraper()"
   ]
  },
  {
   "cell_type": "code",
   "execution_count": 10,
   "id": "e8ab7430",
   "metadata": {},
   "outputs": [],
   "source": [
    "doc = fetch_topic('bitcoin')"
   ]
  },
  {
   "cell_type": "code",
   "execution_count": 11,
   "id": "5f8a6a29",
   "metadata": {},
   "outputs": [],
   "source": [
    "doc_tags = tags_parser(doc)"
   ]
  },
  {
   "cell_type": "code",
   "execution_count": 17,
   "id": "9b5faad4",
   "metadata": {},
   "outputs": [],
   "source": [
    "top_repositories = [repo_parser(tag) for tag in doc_tags]"
   ]
  },
  {
   "cell_type": "code",
   "execution_count": 21,
   "id": "43784ad7",
   "metadata": {},
   "outputs": [
    {
     "data": {
      "text/plain": [
       "[{'repository_name': 'bitcoin',\n",
       "  'owner_username': 'bitcoin',\n",
       "  'stars': 64500,\n",
       "  'repository_url': 'https://github.com/bitcoin/bitcoin'},\n",
       " {'repository_name': 'ccxt',\n",
       "  'owner_username': 'ccxt',\n",
       "  'stars': 24700,\n",
       "  'repository_url': 'https://github.com/ccxt/ccxt'},\n",
       " {'repository_name': 'freqtrade',\n",
       "  'owner_username': 'freqtrade',\n",
       "  'stars': 17600,\n",
       "  'repository_url': 'https://github.com/freqtrade/freqtrade'}]"
      ]
     },
     "execution_count": 21,
     "metadata": {},
     "output_type": "execute_result"
    }
   ],
   "source": [
    "top_repositories[:3]"
   ]
  }
 ],
 "metadata": {
  "kernelspec": {
   "display_name": "Python 3 (ipykernel)",
   "language": "python",
   "name": "python3"
  },
  "language_info": {
   "codemirror_mode": {
    "name": "ipython",
    "version": 3
   },
   "file_extension": ".py",
   "mimetype": "text/x-python",
   "name": "python",
   "nbconvert_exporter": "python",
   "pygments_lexer": "ipython3",
   "version": "3.9.12"
  }
 },
 "nbformat": 4,
 "nbformat_minor": 5
}
